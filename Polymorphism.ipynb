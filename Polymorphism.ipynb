{
 "cells": [
  {
   "cell_type": "markdown",
   "metadata": {},
   "source": [
    "# Polymorphism\n",
    "\n",
    "**Polymorphism** is the ability for an object to be processed differently for different data types. Consider the addition operator, **+**. When used with numbers, it can add two numbers together. However, when used with two strings, it concatenates the two strings. This is an example of polymorphism, the addition operator is processed differently based upon whether it is being used on numbers of strings. Typically, polymorphism will exist with methods. A method may act one way in one class, but produce a different function in another class.\n",
    "\n",
    "In order to completely understand polymorphism, it is necessary for us to understand what **overriding** is. **Overriding** is when a derived class inherits methods from a base class, but the methods do not behave the same way in the derived class as it did in the base class. The derived class has the ability to change the behavior of how the method by redefining it.\n",
    "\n",
    "Below we have an example where we create a class called **Professor**. The **Professor** class will be our base class. It will have one method called **set_num_classes**. This method will create an attribute called **num_classes** and give it a value of 3."
   ]
  },
  {
   "cell_type": "code",
   "execution_count": 85,
   "metadata": {
    "collapsed": true
   },
   "outputs": [],
   "source": [
    "#Create base class\n",
    "class Professor:\n",
    "    \n",
    "    def set_num_classes(self):\n",
    "        self.num_classes = 3"
   ]
  },
  {
   "cell_type": "markdown",
   "metadata": {},
   "source": [
    "Now we can create an instance of this class, and perform the **set_num_classes** method. Our instance will be called mr_jones"
   ]
  },
  {
   "cell_type": "code",
   "execution_count": 86,
   "metadata": {
    "collapsed": true
   },
   "outputs": [],
   "source": [
    "#Create instance of base class\n",
    "mr_jones = Professor()"
   ]
  },
  {
   "cell_type": "code",
   "execution_count": 87,
   "metadata": {
    "collapsed": true
   },
   "outputs": [],
   "source": [
    "#Use set_num_classes() method\n",
    "mr_jones.set_num_classes()"
   ]
  },
  {
   "cell_type": "code",
   "execution_count": 88,
   "metadata": {},
   "outputs": [
    {
     "data": {
      "text/plain": [
       "3"
      ]
     },
     "execution_count": 88,
     "metadata": {},
     "output_type": "execute_result"
    }
   ],
   "source": [
    "#Check num_classes attribute\n",
    "mr_jones.num_classes"
   ]
  },
  {
   "cell_type": "markdown",
   "metadata": {},
   "source": [
    "Now we will create our derived class of the **Professor** class called **ScienceProfessor**. We will override the **set_num_classes** method within the base class by defining another **set_num_classes** method in the **ScienceProfessor** class"
   ]
  },
  {
   "cell_type": "code",
   "execution_count": 89,
   "metadata": {
    "collapsed": true
   },
   "outputs": [],
   "source": [
    "#Create derived class\n",
    "class ScienceProfessor(Professor):\n",
    "    \n",
    "    def set_num_classes(self):\n",
    "        self.num_classes = 4"
   ]
  },
  {
   "cell_type": "markdown",
   "metadata": {},
   "source": [
    "Now we will create an instance of this class, called ms_lee and perform the **set_num__classes** method"
   ]
  },
  {
   "cell_type": "code",
   "execution_count": 90,
   "metadata": {
    "collapsed": true
   },
   "outputs": [],
   "source": [
    "#Create instance of derived class\n",
    "ms_lee = ScienceProfessor()"
   ]
  },
  {
   "cell_type": "code",
   "execution_count": 91,
   "metadata": {},
   "outputs": [],
   "source": [
    "#perform set_num_classes method\n",
    "ms_lee.set_num_classes()"
   ]
  },
  {
   "cell_type": "code",
   "execution_count": 92,
   "metadata": {},
   "outputs": [
    {
     "data": {
      "text/plain": [
       "4"
      ]
     },
     "execution_count": 92,
     "metadata": {},
     "output_type": "execute_result"
    }
   ],
   "source": [
    "#Check num_classes attribute\n",
    "ms_lee.num_classes"
   ]
  },
  {
   "cell_type": "markdown",
   "metadata": {},
   "source": [
    "The **num_classes** attribute for ms_lee is 4 and not 3. This shows that the **set_num_classes** method that was used was the one defined in the **ScienceProfessor** class (derived), and not the **Professor** class (base), and that the **set_num_classes** method in the **Professor** class was overridden.\n",
    "\n",
    "So how would we access the **Professor** class' **set_num_classes**? We can do this by using the **super()** method when creating our derived class. Let's see how we can do this with the **ScienceProfessor** class. Let's redefine it using the **super()** method so that instances of the **ScienceProfessor** class will have access to the **set_num_classes** method of the **Professor** class."
   ]
  },
  {
   "cell_type": "code",
   "execution_count": 93,
   "metadata": {
    "collapsed": true
   },
   "outputs": [],
   "source": [
    "#Redefine derived class with super() method\n",
    "class ScienceProfessor(Professor):\n",
    "    \n",
    "    def set_num_classes(self):\n",
    "        self.num_classes = 4\n",
    "    \n",
    "    #Here is where we use the super() method to gain access to the Professor class' set_num_classes() method\n",
    "    def original_num_classes(self):\n",
    "        super().set_num_classes()"
   ]
  },
  {
   "cell_type": "markdown",
   "metadata": {},
   "source": [
    "Let's now recreate our ms_lee instance and use our new method that makes use of the **set_num_classes()** method from the **Professor** class"
   ]
  },
  {
   "cell_type": "code",
   "execution_count": 94,
   "metadata": {
    "collapsed": true
   },
   "outputs": [],
   "source": [
    "#redefine instance of ScienceProfessor class\n",
    "ms_lee = ScienceProfessor()"
   ]
  },
  {
   "cell_type": "code",
   "execution_count": 95,
   "metadata": {},
   "outputs": [],
   "source": [
    "#Use new method with super() method in it\n",
    "ms_lee.original_num_classes()"
   ]
  },
  {
   "cell_type": "code",
   "execution_count": 96,
   "metadata": {},
   "outputs": [
    {
     "data": {
      "text/plain": [
       "3"
      ]
     },
     "execution_count": 96,
     "metadata": {},
     "output_type": "execute_result"
    }
   ],
   "source": [
    "#Check to see what num_classes is\n",
    "ms_lee.num_classes"
   ]
  },
  {
   "cell_type": "markdown",
   "metadata": {},
   "source": [
    "**num_classes** is 3! This means that the original **set_num_classes()** method was used!"
   ]
  },
  {
   "cell_type": "code",
   "execution_count": null,
   "metadata": {
    "collapsed": true
   },
   "outputs": [],
   "source": []
  }
 ],
 "metadata": {
  "kernelspec": {
   "display_name": "Python 3",
   "language": "python",
   "name": "python3"
  },
  "language_info": {
   "codemirror_mode": {
    "name": "ipython",
    "version": 3
   },
   "file_extension": ".py",
   "mimetype": "text/x-python",
   "name": "python",
   "nbconvert_exporter": "python",
   "pygments_lexer": "ipython3",
   "version": "3.6.1"
  }
 },
 "nbformat": 4,
 "nbformat_minor": 2
}
