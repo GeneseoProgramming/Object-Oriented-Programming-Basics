{
 "cells": [
  {
   "cell_type": "markdown",
   "metadata": {},
   "source": [
    "# Abstraction and Encapsulation\n",
    "\n",
    "In this notebook, you will learn about the first two pillars of Object Oriented Programming (OOP), **Abstraction** and **Encapsulation**. Encapsulation is the process of concealing implementation details from the user. For example, when you create a function, the statements within the function are hidden within the function body. In OOP, this is done by creating methods. In the methods you create, there are a set of statements within the method body that perform the method function. These statements are hidden from the user when the method is called upon. Abstraction is very closely related to encapsulation - abstraction is the representation of the encapsulated details. Abstraction deals with things on a design level, letting you worry about what an object does, rather than how an object does it. When you call on a method, you are abstracting the methods function, without worrying about the details that are encapsulated. Abstraction and encapsulation are very tightly knit. You can think of abstraction as an outer view of an object, while encapsulation is the inner view of an object.\n",
    "\n",
    "The idea for the following exercise is taken from Febin George's *The Four Pillar's of OOP in Python 3 for Beginners*\n",
    "\n",
    "Below we will write a program that creates a library of books and allows customers to take out and return books. We will first start with encapsulation."
   ]
  },
  {
   "cell_type": "code",
   "execution_count": 1,
   "metadata": {
    "collapsed": true
   },
   "outputs": [],
   "source": [
    "class Library:\n",
    "    \n",
    "    books = [\"Book1\", \"Book2\", \"Book3\"]\n",
    "    \n",
    "    def remove_book(self, book):\n",
    "        if self.books == []:\n",
    "            print(\"No more books, all books were requested!\")\n",
    "        elif book not in self.books:\n",
    "            print(\"We do not have that book, sorry.\")\n",
    "        else:\n",
    "            self.books.remove(book)\n",
    "            self.books.sort()\n",
    "            print(\"Here is %s\" %(book))\n",
    "        \n",
    "    def add_book(self,book):\n",
    "        self.books.append(book)\n",
    "        self.books.sort()\n",
    "        \n",
    "    def see_selection(self):\n",
    "        print(self.books)\n",
    "        "
   ]
  },
  {
   "cell_type": "code",
   "execution_count": 2,
   "metadata": {
    "collapsed": true
   },
   "outputs": [],
   "source": [
    "class Customer:\n",
    "    \n",
    "    def request_book(self):\n",
    "        print(\"What book would you like to request?\")\n",
    "        self.book = str(input())\n",
    "        return self.book\n",
    "    def return_book(self):\n",
    "        print(\"What book would you like to return?\")\n",
    "        self.book = str(input())\n",
    "        return self.book"
   ]
  },
  {
   "cell_type": "markdown",
   "metadata": {},
   "source": [
    "Now that we have encapsulated all of the implementation details within two classes, **Customer** and **Library**, we can now add our layers of abstraction."
   ]
  },
  {
   "cell_type": "code",
   "execution_count": 4,
   "metadata": {},
   "outputs": [
    {
     "name": "stdout",
     "output_type": "stream",
     "text": [
      "What would you like to do?\n",
      "Choose 1 to see the available books\n",
      "Choose 2 to request a book\n",
      "Choose 3 to return a book\n",
      "Choose 4 to leave\n",
      "4\n",
      "Have a nice day!\n"
     ]
    }
   ],
   "source": [
    "my_library = Library()\n",
    "my_customer = Customer()\n",
    "\n",
    "print(\"What would you like to do?\")\n",
    "print(\"Choose 1 to see the available books\")\n",
    "print(\"Choose 2 to request a book\")\n",
    "print(\"Choose 3 to return a book\")\n",
    "print(\"Choose 4 to leave\")\n",
    "\n",
    "while True: #Continues to loop through until option 4 is chosen\n",
    "    while True: #Makes sure that user_options is an integer\n",
    "        try:\n",
    "            user_options = int(input())\n",
    "        except:\n",
    "            print(\"That is not an integer. Try again\")\n",
    "        else:\n",
    "            break\n",
    "    if user_options is 1:\n",
    "        print(\"Here are the available books\")\n",
    "        my_library.see_selection()\n",
    "    elif user_options is 2:\n",
    "        requested_book = my_customer.request_book()\n",
    "        my_library.remove_book(requested_book)\n",
    "    elif user_options is 3:\n",
    "        returned_book = my_customer.return_book()\n",
    "        my_library.add_book(returned_book)\n",
    "    elif user_options is 4:\n",
    "        print(\"Have a nice day!\")\n",
    "        break\n",
    "    else:\n",
    "        del user_options\n",
    "        print(\"That is not an integer between 1 and 4. Try again.\")"
   ]
  },
  {
   "cell_type": "code",
   "execution_count": null,
   "metadata": {
    "collapsed": true
   },
   "outputs": [],
   "source": []
  }
 ],
 "metadata": {
  "kernelspec": {
   "display_name": "Python 3",
   "language": "python",
   "name": "python3"
  },
  "language_info": {
   "codemirror_mode": {
    "name": "ipython",
    "version": 3
   },
   "file_extension": ".py",
   "mimetype": "text/x-python",
   "name": "python",
   "nbconvert_exporter": "python",
   "pygments_lexer": "ipython3",
   "version": "3.6.1"
  }
 },
 "nbformat": 4,
 "nbformat_minor": 2
}
