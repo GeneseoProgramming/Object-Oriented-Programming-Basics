{
 "cells": [
  {
   "cell_type": "markdown",
   "metadata": {},
   "source": [
    "### A Quick Introductory Statement\n",
    "\n",
    "Before starting, I would like to preface this notebook by saying that everything in python is an object. That is why python is an **object oriented programming language**.  In python, the definition of an object is rather loose. An object is anything which can be assigned to a variable or passed as an argument to a function. So pretty much...EVERYTHING IN PYTHON IS AN OBJECT. Strings, lists, dictionaries, integers, functions, floats, modules are all objects.\n",
    "\n",
    "So everything in python must be a type of an object. For example, the type of object that something like [1,2,3] would be is a list... So how do we check the type of an object? We can use the **type()** function to check the type of object that something is."
   ]
  },
  {
   "cell_type": "code",
   "execution_count": 12,
   "metadata": {},
   "outputs": [
    {
     "name": "stdout",
     "output_type": "stream",
     "text": [
      "<class 'str'>\n",
      "<class 'int'>\n",
      "<class 'tuple'>\n",
      "<class 'builtin_function_or_method'>\n",
      "<class 'dict'>\n",
      "<class 'list'>\n",
      "<class 'set'>\n"
     ]
    }
   ],
   "source": [
    "print(type(\"Hi\"))\n",
    "print(type(1))\n",
    "print(type(()))\n",
    "print(type(len))\n",
    "print(type({}))\n",
    "print(type([]))\n",
    "print(type(set()))"
   ]
  },
  {
   "cell_type": "markdown",
   "metadata": {},
   "source": [
    "# Classes and Objects\n",
    "\n",
    "In this notebook we will be talking about python *classes* and *objects*. Classes are a logical collection of attributes (data) and methods (functions), and objects are instances of classes. For example, we can have a class called **SchoolTeacher**. Our **SchoolTeacher** class can have attributes for the grade that they teach, the subject that they teach, and the months that they work (teachers get summers off). Our **SchoolTeacher** class can also have a method to calculate a teacher's salary using its attributes. From our **SchoolTeacher** class, we can create an instance (also known as an *instance object*) called **Mr_Jones**. This process of creating instances from classes is called *object instantiation*. \n",
    "\n",
    "So let's break this down into easier terms. You can think of a class as a noun. In our example, our noun is **SchoolTeacher**, meant to represent school teachers. Next, you can think of attributes as adjectives. Attributes are the data that describe our noun (class). Next, you can think of methods as verbs. Methods are actions that are performed by our noun (class). Lastly, the process of creating an instance from a class (object instantiation) can be thought of as giving life to our class. We gave life to our **SchoolTeacher** class by creating an instance called **Mr_Jones**. \n",
    "\n",
    "## Creating Classes\n",
    "\n",
    "The syntax for creating a class is as follows:\n",
    "\n",
    "    class ClassName:\n",
    "    \n",
    "        attribute_name = something\n",
    "   \n",
    "        def method_name(self, argument(s):\n",
    "            statements\n",
    "\n",
    "As you can see, creating attributes for our class are simple, we just assign a variable to a value within the body of our class. In order to create a method, we create a function within our class body. Let's see an example below where we create our **SchoolTeacher** class. For now, do not worry about the **self** parameter within the method arguments."
   ]
  },
  {
   "cell_type": "code",
   "execution_count": 6,
   "metadata": {
    "collapsed": true
   },
   "outputs": [],
   "source": [
    "#Create class\n",
    "class SchoolTeacher:\n",
    "    \n",
    "    #Here we define our attributes\n",
    "    job = \"School Teacher\" #Their job - obviously it will be a school teacher\n",
    "    months_working = 9 #the amount of months a teacher works\n",
    "    grade = 10 #The grade the teacher teaches\n",
    "    subject = \"Biology\"\n",
    "    \n",
    "    #Here we create out methods\n",
    "    def calculate_salary(self):\n",
    "        salary = self.months_working * 9000 #salary is simply based upon months the teacher works\n",
    "        return salary"
   ]
  },
  {
   "cell_type": "markdown",
   "metadata": {},
   "source": [
    "So now we have created our **SchoolTeacher** class! We hae created four attributes as well as a method that calculates a salary simply based upon the amount of months the teacher works.\n",
    "\n",
    "## Creating Instances\n",
    "\n",
    "Now that we have made our class, let's move on to how to give life to our class and create and instance! To do this is simple. In order to create an instance we just assign a variable to our class name along with parenthesis. The syntax is below.\n",
    "    \n",
    "    instance_name = ClassName()\n",
    "    \n",
    "Let's create our instance from our example from before, **Mr_Jones**."
   ]
  },
  {
   "cell_type": "code",
   "execution_count": 7,
   "metadata": {
    "collapsed": true
   },
   "outputs": [],
   "source": [
    "#Create Instance\n",
    "Mr_Jones = SchoolTeacher()"
   ]
  },
  {
   "cell_type": "markdown",
   "metadata": {},
   "source": [
    "## Accessing Attributes and Methods\n",
    "\n",
    "In order to access attributes and methods, we use the dot operator (a period). For example, to access the **grade** attribute for **Mr_Jones** we would do:\n",
    "   \n",
    "    Mr_Jones.grade\n",
    "    \n",
    "In order to access a method, we would do the same as with an attribute, but put parenthesis at the end. For example, to use the **calculate_salary** method we would do:\n",
    "\n",
    "    Mr_Jones.calculate_salary()"
   ]
  },
  {
   "cell_type": "code",
   "execution_count": 8,
   "metadata": {},
   "outputs": [
    {
     "data": {
      "text/plain": [
       "10"
      ]
     },
     "execution_count": 8,
     "metadata": {},
     "output_type": "execute_result"
    }
   ],
   "source": [
    "#Access attributes for grade\n",
    "Mr_Jones.grade"
   ]
  },
  {
   "cell_type": "code",
   "execution_count": 10,
   "metadata": {},
   "outputs": [
    {
     "data": {
      "text/plain": [
       "81000"
      ]
     },
     "execution_count": 10,
     "metadata": {},
     "output_type": "execute_result"
    }
   ],
   "source": [
    "#perform calculate_salary method\n",
    "Mr_Jones.calculate_salary()"
   ]
  },
  {
   "cell_type": "markdown",
   "metadata": {},
   "source": [
    "## Class vs Instance Attributes \n",
    "\n",
    "In our example, the class we made, **SchoolTeacher**, has attributes for grade and subject. We said that the grade for our class is 10, and the subject is \"Biology\". Now, you may be thinking that not all teachers teach grade 10 biology. Well, you would be correct. It would be more appropriate for these attributes to be assigned during object instantiation, so that they can be specific to each instance. We can do this using **instance attributes**. So far in our example, we have only defined **class attributes**.\n",
    "\n",
    "\n",
    "In order to define an instance attribute, we create a function within our class usuing the **\\__init\\__** method. This is a special method that allows one to create instance attributes. Each method within the class starts with a reference to the instance object. In this case, the reference is **self**, and by convention we always use **self**. It does not have to be **self**, but everyone else will be using **self**, and so should you. I encourage you to do your own research on the **self** parameter, being that it is used very widely when creating classes. Here is an article explaining the **self** parameter: https://pythontips.com/2013/08/07/the-self-variable-in-python-explained/\n",
    "\n",
    "We can update out syntax to look like:\n",
    "\n",
    "    class ClassName:\n",
    "    \n",
    "        class_attribute_name = something\n",
    "        \n",
    "        def __init__(self):\n",
    "        \n",
    "            self.instance_attribute = something\n",
    "   \n",
    "        def method_name(self, argument(s):\n",
    "            statements\n",
    "\n",
    "Let's update our **SchoolTeacher** class to have grade and subject to be instance attributes, rather than class attributes."
   ]
  },
  {
   "cell_type": "code",
   "execution_count": 13,
   "metadata": {
    "collapsed": true
   },
   "outputs": [],
   "source": [
    "#Update SchoolTeacher class\n",
    "class SchoolTeacher:\n",
    "    \n",
    "    #Here we define our attributes\n",
    "    job = \"School Teacher\" #Their job - obviously it will be a school teacher\n",
    "    months_working = 9 #the amount of months a teacher works\n",
    "    \n",
    "    #Here we create out instance attributes    \n",
    "    def __init__(self, grade, subject):\n",
    "        self.grade = grade\n",
    "        self.subject = subject\n",
    "    \n",
    "    #Here we create out methods\n",
    "    def calculate_salary(self):\n",
    "        salary = self.months_working * 9000 #salary is simply based upon months the teacher works\n",
    "        return salary"
   ]
  },
  {
   "cell_type": "markdown",
   "metadata": {},
   "source": [
    "Now that we have updated our class, let's update our instance, **Mr_Jones**. Now that we have instance attributes, when we perform object instantiation, we have to specify the instance attribute values within the parenthesis."
   ]
  },
  {
   "cell_type": "code",
   "execution_count": 15,
   "metadata": {
    "collapsed": true
   },
   "outputs": [],
   "source": [
    "#Recreate Mr_Jones with instance attributes\n",
    "Mr_Jones = SchoolTeacher(10, \"Biology\")"
   ]
  },
  {
   "cell_type": "code",
   "execution_count": 18,
   "metadata": {},
   "outputs": [
    {
     "name": "stdout",
     "output_type": "stream",
     "text": [
      "10\n",
      "Biology\n"
     ]
    }
   ],
   "source": [
    "#Check if instance attributes are there\n",
    "print(Mr_Jones.grade)\n",
    "print(Mr_Jones.subject)"
   ]
  },
  {
   "cell_type": "markdown",
   "metadata": {},
   "source": [
    "A second way we can define instance attributes is by assigning them after an instance has been created. For example, we can assign an instance attribute to **Mr_Jones** called **personality** and give it the value \"nice\"."
   ]
  },
  {
   "cell_type": "code",
   "execution_count": 19,
   "metadata": {
    "collapsed": true
   },
   "outputs": [],
   "source": [
    "#assign instance attribute\n",
    "Mr_Jones.personality = \"nice\""
   ]
  },
  {
   "cell_type": "code",
   "execution_count": 20,
   "metadata": {},
   "outputs": [
    {
     "data": {
      "text/plain": [
       "'nice'"
      ]
     },
     "execution_count": 20,
     "metadata": {},
     "output_type": "execute_result"
    }
   ],
   "source": [
    "#Check\n",
    "Mr_Jones.personality"
   ]
  },
  {
   "cell_type": "markdown",
   "metadata": {},
   "source": [
    "## Namespaces\n",
    "\n",
    "In order to further understand the relationship between classes, instances, instance attributes, and class attributes, we must first understand **namespaces**.\n",
    "\n",
    "A **namespace** stores the variables that you set. It does this as a mapping (remember that the only built-in mapping is a dictionary). In a namespace, the names are the keys, and the objects are the values. We will talk about two **namespaces**, *class namespaces* and *instance namespaces*.\n",
    "\n",
    "Classes and instances in python both have their own namespaces. These namespaces contain the attributes associated with the instance or class. When looking for an attribute from an instance of a class, the instance namespace will be checked first. If the attribute is found in the instance namespace, the associated value will be returned. If not, the class namespace will be checked, and the associated value in that case will be returned if found. In order to check the namespace of an instance of a class, you can use the pre-defined attribute **__dict__**. \n",
    "\n",
    "Let's check the instance namespace for our instance **Mr_Jones**. Then, let's check the class namespace for our class **SchoolTeacher**"
   ]
  },
  {
   "cell_type": "code",
   "execution_count": 24,
   "metadata": {},
   "outputs": [
    {
     "data": {
      "text/plain": [
       "{'grade': 10, 'personality': 'nice', 'subject': 'Biology'}"
      ]
     },
     "execution_count": 24,
     "metadata": {},
     "output_type": "execute_result"
    }
   ],
   "source": [
    "#instance namespace\n",
    "Mr_Jones.__dict__"
   ]
  },
  {
   "cell_type": "code",
   "execution_count": 25,
   "metadata": {},
   "outputs": [
    {
     "data": {
      "text/plain": [
       "mappingproxy({'__dict__': <attribute '__dict__' of 'SchoolTeacher' objects>,\n",
       "              '__doc__': None,\n",
       "              '__init__': <function __main__.SchoolTeacher.__init__>,\n",
       "              '__module__': '__main__',\n",
       "              '__weakref__': <attribute '__weakref__' of 'SchoolTeacher' objects>,\n",
       "              'calculate_salary': <function __main__.SchoolTeacher.calculate_salary>,\n",
       "              'job': 'School Teacher',\n",
       "              'months_working': 9})"
      ]
     },
     "execution_count": 25,
     "metadata": {},
     "output_type": "execute_result"
    }
   ],
   "source": [
    "#Class namespace\n",
    "SchoolTeacher.__dict__"
   ]
  },
  {
   "cell_type": "markdown",
   "metadata": {},
   "source": [
    "Now, let's update our class to have a new class attribute called num_classes, which will represent the amount of classes taught by a teacher. We will give it the value 3."
   ]
  },
  {
   "cell_type": "code",
   "execution_count": 30,
   "metadata": {
    "collapsed": true
   },
   "outputs": [],
   "source": [
    "#update class to have num_classes class attribute\n",
    "class SchoolTeacher:\n",
    "    \n",
    "    #Here we define our attributes\n",
    "    job = \"School Teacher\" #Their job - obviously it will be a school teacher\n",
    "    months_working = 9 #the amount of months a teacher works\n",
    "    num_classes = 3 #the amount of classes a teacher teaches\n",
    "    \n",
    "    #Here we create out instance attributes    \n",
    "    def __init__(self, grade, subject):\n",
    "        self.grade = grade\n",
    "        self.subject = subject\n",
    "    \n",
    "    #Here we create out methods\n",
    "    def calculate_salary(self):\n",
    "        salary = self.months_working * 9000 #salary is simply based upon months the teacher works\n",
    "        return salary"
   ]
  },
  {
   "cell_type": "markdown",
   "metadata": {},
   "source": [
    "Now let's redefine Mr_Jones, so that he will have the num_classes class attribute"
   ]
  },
  {
   "cell_type": "code",
   "execution_count": 45,
   "metadata": {
    "collapsed": true
   },
   "outputs": [],
   "source": [
    "#Redefine Mr_Jones\n",
    "Mr_Jones = SchoolTeacher(10, \"Biology\")"
   ]
  },
  {
   "cell_type": "code",
   "execution_count": 35,
   "metadata": {},
   "outputs": [
    {
     "data": {
      "text/plain": [
       "3"
      ]
     },
     "execution_count": 35,
     "metadata": {},
     "output_type": "execute_result"
    }
   ],
   "source": [
    "#Check for num_classes attribute\n",
    "Mr_Jones.num_classes"
   ]
  },
  {
   "cell_type": "markdown",
   "metadata": {},
   "source": [
    "What if Mr_Jones actually teaches 4 classes and we give him an instance attribute called num_classes and set it equal to 4? Will the instance attribute be output, or the class attribute? Let's see."
   ]
  },
  {
   "cell_type": "code",
   "execution_count": 36,
   "metadata": {
    "collapsed": true
   },
   "outputs": [],
   "source": [
    "#Create instance attribute called num_classes\n",
    "Mr_Jones.num_classes = 4"
   ]
  },
  {
   "cell_type": "code",
   "execution_count": 38,
   "metadata": {},
   "outputs": [
    {
     "data": {
      "text/plain": [
       "4"
      ]
     },
     "execution_count": 38,
     "metadata": {},
     "output_type": "execute_result"
    }
   ],
   "source": [
    "#Check to see if instance attribute or class attribute is printed out\n",
    "Mr_Jones.num_classes"
   ]
  },
  {
   "cell_type": "markdown",
   "metadata": {},
   "source": [
    "As you can see, the instance attribute was output. This is because the instance namespace was checked first, and the num_classes attribute was found in the instance namespace, so it was returned. Had the num_classes attribute not be found in the instance namespace, the class namespace would have been checked, and the output would have been 3."
   ]
  },
  {
   "cell_type": "markdown",
   "metadata": {},
   "source": [
    "## Static vs Instance Methods\n",
    "\n",
    "Within our class, **SchoolTeacher**, we have a method called **calculate_salary**. This method is a **instance method**. An instance method uses the **self** parameter because the body of the method calls upon attributes of the instance or class. However, what if we want to create a method that does not need to call upon any instance or class attributes? Then, we can just create a **static method**. This is done by creating a method, but without the **self** parameter. Also, a **@staticmethod** decorator will be used. The syntax for a class now looks like:\n",
    "\n",
    "\n",
    "  class ClassName:\n",
    "    \n",
    "        class_attribute_name = value\n",
    "        \n",
    "        def __init__(self):\n",
    "        \n",
    "            self.instance_attribute = value\n",
    "   \n",
    "        def instace_method_name(self, argument(s):\n",
    "            statement(s)\n",
    "        \n",
    "        @staticmethod\n",
    "        def static_method_name():\n",
    "            statement(s)\n",
    "            \n",
    "Let's now update our class **SchoolTeacher** to have a static method called **who_am_I** that prints \"You are a school teacher\" We will then redefine our instance, **Mr_Jones** to this newly defined class."
   ]
  },
  {
   "cell_type": "code",
   "execution_count": 58,
   "metadata": {
    "collapsed": true
   },
   "outputs": [],
   "source": [
    "#update class to have static method\n",
    "class SchoolTeacher:\n",
    "    \n",
    "    #Here we define our attributes\n",
    "    job = \"School Teacher\" #Their job - obviously it will be a school teacher\n",
    "    months_working = 9 #the amount of months a teacher works\n",
    "    num_classes = 3 #the amount of classes a teacher teaches\n",
    "    \n",
    "    #Here we create out instance attributes    \n",
    "    def __init__(self, grade, subject):\n",
    "        self.grade = grade\n",
    "        self.subject = subject\n",
    "    \n",
    "    #Here we create out instance methods\n",
    "    def calculate_salary(self):\n",
    "        salary = self.months_working * 9000 #salary is simply based upon months the teacher works\n",
    "        return salary\n",
    "    \n",
    "    #Here we create out static methods\n",
    "    @staticmethod\n",
    "    def who_am_I():\n",
    "        print(\"You are a school teacher\")"
   ]
  },
  {
   "cell_type": "code",
   "execution_count": 59,
   "metadata": {
    "collapsed": true
   },
   "outputs": [],
   "source": [
    "#Redefine Mr_Jones\n",
    "Mr_Jones = SchoolTeacher(10, \"Biology\")"
   ]
  },
  {
   "cell_type": "code",
   "execution_count": 60,
   "metadata": {},
   "outputs": [
    {
     "name": "stdout",
     "output_type": "stream",
     "text": [
      "You are a school teacher\n"
     ]
    }
   ],
   "source": [
    "#Check if static method works\n",
    "Mr_Jones.who_am_I()"
   ]
  },
  {
   "cell_type": "markdown",
   "metadata": {},
   "source": [
    "It is important to note that if the **@staticmethod** decorator is not used, you will receive an error message, because the **self** parameter is expected."
   ]
  }
 ],
 "metadata": {
  "kernelspec": {
   "display_name": "Python 3",
   "language": "python",
   "name": "python3"
  },
  "language_info": {
   "codemirror_mode": {
    "name": "ipython",
    "version": 3
   },
   "file_extension": ".py",
   "mimetype": "text/x-python",
   "name": "python",
   "nbconvert_exporter": "python",
   "pygments_lexer": "ipython3",
   "version": "3.6.1"
  }
 },
 "nbformat": 4,
 "nbformat_minor": 2
}
