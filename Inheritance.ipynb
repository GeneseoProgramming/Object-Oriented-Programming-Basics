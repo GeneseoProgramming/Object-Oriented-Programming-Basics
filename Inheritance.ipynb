{
 "cells": [
  {
   "cell_type": "markdown",
   "metadata": {},
   "source": [
    "# Inheritance\n",
    "\n",
    "We can create new classes from classes that have already been made through a process called **Inheritance**. These new classes are called **derived classes** (aka **child classes**), and the original callses are called **base classes** (aka **parent classes**). \n",
    "\n",
    "We will talk about three types of inheritance: single inheritance, multiple inheritance, and multilevel inheritance.\n",
    "\n",
    "## Single Inheritance\n",
    "\n",
    "With single inheritance, a derived class will have access to the attributes and methods of the base class. The derived class can also have attributes and methods specific to itself.\n",
    "\n",
    "We will use an example of this by creating a base class called **Professor** with some attributes and one method. We will then create a derived class called **ScienceProfessor** and give its own attributes as well as a method that uses attributes from the base class and the derived class. We will then check to see if the derived class can access methods and attributes from itself as welll as the base class."
   ]
  },
  {
   "cell_type": "code",
   "execution_count": 107,
   "metadata": {
    "collapsed": true
   },
   "outputs": [],
   "source": [
    "#Base class\n",
    "class Professor:\n",
    "    job = \"professor\"\n",
    "    classes = 3\n",
    "    \n",
    "    def class_amount(self):\n",
    "        print(\"The amount of classes I teach is %s\" %(self.classes))"
   ]
  },
  {
   "cell_type": "code",
   "execution_count": 108,
   "metadata": {},
   "outputs": [],
   "source": [
    "#Derived class\n",
    "class ScienceProfessor(Professor):\n",
    "    subject = \"science\"\n",
    "    \n",
    "    def who_am_I(self):\n",
    "        print(\"I am a %s of %s\" %(self.job, self.subject))"
   ]
  },
  {
   "cell_type": "code",
   "execution_count": 109,
   "metadata": {
    "collapsed": true
   },
   "outputs": [],
   "source": [
    "#Instance of derived class\n",
    "ms_lee = ScienceProfessor()"
   ]
  },
  {
   "cell_type": "code",
   "execution_count": 110,
   "metadata": {},
   "outputs": [
    {
     "name": "stdout",
     "output_type": "stream",
     "text": [
      "I am a professor of science\n"
     ]
    }
   ],
   "source": [
    "#Check if derived class method that uses derived class attributes as well as base class attributes works\n",
    "ms_lee.who_am_I()"
   ]
  },
  {
   "cell_type": "code",
   "execution_count": 111,
   "metadata": {},
   "outputs": [
    {
     "name": "stdout",
     "output_type": "stream",
     "text": [
      "The amount of classes I teach is 3\n"
     ]
    }
   ],
   "source": [
    "#Check if base class method works\n",
    "ms_lee.class_amount()"
   ]
  },
  {
   "cell_type": "markdown",
   "metadata": {},
   "source": [
    "## Multiple Inheritance\n",
    "\n",
    "A derived class can have more than one base class. In this way a derived class will have the attributes and methods of more than one base class. You can think of this as a child that inherits traits from both a mother and a father."
   ]
  },
  {
   "cell_type": "code",
   "execution_count": 144,
   "metadata": {
    "collapsed": true
   },
   "outputs": [],
   "source": [
    "#First base class\n",
    "class WirelessProvider:\n",
    "    wireless_provider = \"verizon\"\n",
    "    website = \"www.verizon.com\""
   ]
  },
  {
   "cell_type": "code",
   "execution_count": 145,
   "metadata": {
    "collapsed": true
   },
   "outputs": [],
   "source": [
    "#Second base class\n",
    "class Apple:\n",
    "    website = \"www.apple.com\"\n",
    "    manufacturer = \"Apple\""
   ]
  },
  {
   "cell_type": "code",
   "execution_count": 160,
   "metadata": {},
   "outputs": [],
   "source": [
    "#derived class\n",
    "class iPhone(WirelessProvider, Apple):\n",
    "    \n",
    "    def what_am_I(self):\n",
    "        print(\"This is an iPhone made by %s with wireless provided by %s\" %(self.manufacturer, self.wireless_provider))"
   ]
  },
  {
   "cell_type": "code",
   "execution_count": 161,
   "metadata": {},
   "outputs": [],
   "source": [
    "#Instance of Derived class \n",
    "my_iPhone = iPhone()"
   ]
  },
  {
   "cell_type": "code",
   "execution_count": 162,
   "metadata": {},
   "outputs": [
    {
     "name": "stdout",
     "output_type": "stream",
     "text": [
      "This is an iPhone made by Apple with wireless provided by verizon\n"
     ]
    }
   ],
   "source": [
    "#use what_am_I method that prints attributes from WirelessProvider class and Apple class\n",
    "my_iPhone.what_am_I()"
   ]
  },
  {
   "cell_type": "markdown",
   "metadata": {},
   "source": [
    "What happens if we call the **website** attribute that exists in both the **WirelessProvider** class and **Apple** class?"
   ]
  },
  {
   "cell_type": "code",
   "execution_count": 163,
   "metadata": {},
   "outputs": [
    {
     "data": {
      "text/plain": [
       "'www.verizon.com'"
      ]
     },
     "execution_count": 163,
     "metadata": {},
     "output_type": "execute_result"
    }
   ],
   "source": [
    "my_iPhone.website"
   ]
  },
  {
   "cell_type": "markdown",
   "metadata": {},
   "source": [
    "As you can see, the website that was returned was \"www.verizon.com\". This is because when creating the **iPhone** class, the **WirelessProvider** class is called before the **Apple** class. We can have the **Apple** class' **website** attribute be printed by swithinc the **Apple** class to the front."
   ]
  },
  {
   "cell_type": "code",
   "execution_count": 165,
   "metadata": {},
   "outputs": [],
   "source": [
    "#redefine derived class with Apple class before WirelessProvider class\n",
    "class iPhone(Apple, WirelessProvider):\n",
    "    def what_am_I(self):\n",
    "        print(\"This is an iPhone made by %s with wireless provided by %s\" %(self.manufacturer, self.wireless_provider))\n",
    "\n",
    "#redefine my_iPhone instance\n",
    "my_iPhone = iPhone()"
   ]
  },
  {
   "cell_type": "code",
   "execution_count": 166,
   "metadata": {},
   "outputs": [
    {
     "data": {
      "text/plain": [
       "'www.apple.com'"
      ]
     },
     "execution_count": 166,
     "metadata": {},
     "output_type": "execute_result"
    }
   ],
   "source": [
    "#Check website attribute\n",
    "my_iPhone.website"
   ]
  },
  {
   "cell_type": "markdown",
   "metadata": {},
   "source": [
    "## Multilevel Inheritance\n",
    "\n",
    "Multilevel inheritance is a derived class inheriting attributes and methods from a base class (parent) that has also inherited attributes and methods from its own base class (grandparent). The derived class will have the attributes and methods of both the parent and the grandparent. This process can have as many levels as you want. \n",
    "\n",
    "Below is an example with a grandparent class called **Animals**, a parent class called **Vertebrates**, and a child class called **Mammals**"
   ]
  },
  {
   "cell_type": "code",
   "execution_count": 132,
   "metadata": {
    "collapsed": true
   },
   "outputs": [],
   "source": [
    "#Grandparent class\n",
    "class Animals:\n",
    "    cell_type = \"animal cells\""
   ]
  },
  {
   "cell_type": "code",
   "execution_count": 133,
   "metadata": {
    "collapsed": true
   },
   "outputs": [],
   "source": [
    "#Parent class\n",
    "class Vertebrates(Animals):\n",
    "    symmetry = \"bilateral symmetry\"\n",
    "    support_type = \"endoskeleton\""
   ]
  },
  {
   "cell_type": "code",
   "execution_count": 134,
   "metadata": {
    "collapsed": true
   },
   "outputs": [],
   "source": [
    "#Child class\n",
    "class Mammals(Vertebrates):\n",
    "    blood_type = \"warm-blooded\"\n",
    "    \n",
    "    def who_am_I(self):\n",
    "        print(\"I am %s. I exhibit %s. I have an %s. My cells are %s\"\\\n",
    "              %(self.blood_type, self.symmetry, self.support_type, self.cell_type))"
   ]
  },
  {
   "cell_type": "code",
   "execution_count": 135,
   "metadata": {},
   "outputs": [],
   "source": [
    "#Instance of child class\n",
    "dog = Mammals()"
   ]
  },
  {
   "cell_type": "code",
   "execution_count": 136,
   "metadata": {},
   "outputs": [
    {
     "name": "stdout",
     "output_type": "stream",
     "text": [
      "I am warm-blooded. I exhibit bilateral symmetry. I have an endoskeleton. My cells are animal cells\n"
     ]
    }
   ],
   "source": [
    "#See if method that uses attributes from all classes works.\n",
    "dog.who_am_I()"
   ]
  },
  {
   "cell_type": "markdown",
   "metadata": {},
   "source": [
    "## Access Specifiers: Public, Protected, Private\n",
    "\n",
    "Public - accessable to class, derived class, and anywhere outside of derived class\n",
    "\n",
    "Protected - accessable to class, and derived classes\n",
    "\n",
    "Private - accessable only to class\n",
    "\n",
    "syntax:\n",
    "\n",
    "    memberName #public\n",
    "    \n",
    "    _memberName #Protected\n",
    "    \n",
    "    __memberName #Private"
   ]
  },
  {
   "cell_type": "code",
   "execution_count": 84,
   "metadata": {
    "collapsed": true
   },
   "outputs": [],
   "source": [
    "class Car:\n",
    "    number_of_wheels = 4 #public attributes\n",
    "    _color = \"Black\" #protected attribute\n",
    "    __year_of_manufacturer = 2017 #private attribute"
   ]
  },
  {
   "cell_type": "code",
   "execution_count": 79,
   "metadata": {},
   "outputs": [],
   "source": [
    "class BMW(Car):\n",
    "    pass"
   ]
  },
  {
   "cell_type": "code",
   "execution_count": 80,
   "metadata": {
    "collapsed": true
   },
   "outputs": [],
   "source": [
    "#Create base class instance\n",
    "car = Car()"
   ]
  },
  {
   "cell_type": "code",
   "execution_count": 72,
   "metadata": {},
   "outputs": [],
   "source": [
    "#Create derived class instance\n",
    "bmw = BMW()"
   ]
  },
  {
   "cell_type": "code",
   "execution_count": 74,
   "metadata": {},
   "outputs": [
    {
     "data": {
      "text/plain": [
       "4"
      ]
     },
     "execution_count": 74,
     "metadata": {},
     "output_type": "execute_result"
    }
   ],
   "source": [
    "#Check public attribute in derived class\n",
    "bmw.number_of_wheels"
   ]
  }
 ],
 "metadata": {
  "kernelspec": {
   "display_name": "Python 3",
   "language": "python",
   "name": "python3"
  },
  "language_info": {
   "codemirror_mode": {
    "name": "ipython",
    "version": 3
   },
   "file_extension": ".py",
   "mimetype": "text/x-python",
   "name": "python",
   "nbconvert_exporter": "python",
   "pygments_lexer": "ipython3",
   "version": "3.6.1"
  }
 },
 "nbformat": 4,
 "nbformat_minor": 2
}
